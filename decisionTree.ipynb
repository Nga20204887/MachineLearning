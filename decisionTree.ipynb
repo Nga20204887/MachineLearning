{
  "cells": [
    {
      "cell_type": "code",
      "execution_count": null,
      "metadata": {
        "id": "nPTPfxWU5s3J",
        "colab": {
          "base_uri": "https://localhost:8080/"
        },
        "outputId": "3d977ee3-f106-40c6-8100-0ef7d2539613"
      },
      "outputs": [
        {
          "output_type": "stream",
          "name": "stdout",
          "text": [
            "Mounted at /content/gdrive\n"
          ]
        }
      ],
      "source": [
        "from google.colab import drive\n",
        "drive.mount('/content/gdrive')"
      ]
    },
    {
      "cell_type": "code",
      "execution_count": null,
      "metadata": {
        "id": "QA66kZRm6O1O"
      },
      "outputs": [],
      "source": [
        "import pandas as pd\n",
        "import numpy as np\n",
        "\n",
        "# test =pd.read_csv(\"/content/gdrive/MyDrive/adultData/MLtest_notStandard.csv\")\n",
        "# olddata = pd.read_csv(\"/content/gdrive/MyDrive/adultData/adult-all.csv\")"
      ]
    },
    {
      "cell_type": "code",
      "source": [
        "data = pd.read_csv(\"/content/gdrive/MyDrive/adultData/MLdata_notStandard.csv\")\n",
        "data.head()"
      ],
      "metadata": {
        "colab": {
          "base_uri": "https://localhost:8080/",
          "height": 206
        },
        "id": "aGeksM0qWAxD",
        "outputId": "34126098-4934-4ffe-c30e-1c724dbb3b01"
      },
      "execution_count": null,
      "outputs": [
        {
          "output_type": "execute_result",
          "data": {
            "text/plain": [
              "    0                 1       2          3   4                   5  \\\n",
              "0  39         State-gov   77516  Bachelors  13       Never-married   \n",
              "1  50  Self-emp-not-inc   83311  Bachelors  13  Married-civ-spouse   \n",
              "2  38           Private  215646    HS-grad   9            Divorced   \n",
              "3  53           Private  234721       11th   7  Married-civ-spouse   \n",
              "4  28           Private  338409  Bachelors  13  Married-civ-spouse   \n",
              "\n",
              "                   6              7      8       9    10  11  12  \\\n",
              "0       Adm-clerical  Not-in-family  White    Male  2174   0  40   \n",
              "1    Exec-managerial        Husband  White    Male     0   0  13   \n",
              "2  Handlers-cleaners  Not-in-family  White    Male     0   0  40   \n",
              "3  Handlers-cleaners        Husband  Black    Male     0   0  40   \n",
              "4     Prof-specialty           Wife  Black  Female     0   0  40   \n",
              "\n",
              "              13     14  \n",
              "0  United-States  <=50K  \n",
              "1  United-States  <=50K  \n",
              "2  United-States  <=50K  \n",
              "3  United-States  <=50K  \n",
              "4           Cuba  <=50K  "
            ],
            "text/html": [
              "\n",
              "  <div id=\"df-acf7b9b0-e3ff-4763-8784-8f8cf61ec132\">\n",
              "    <div class=\"colab-df-container\">\n",
              "      <div>\n",
              "<style scoped>\n",
              "    .dataframe tbody tr th:only-of-type {\n",
              "        vertical-align: middle;\n",
              "    }\n",
              "\n",
              "    .dataframe tbody tr th {\n",
              "        vertical-align: top;\n",
              "    }\n",
              "\n",
              "    .dataframe thead th {\n",
              "        text-align: right;\n",
              "    }\n",
              "</style>\n",
              "<table border=\"1\" class=\"dataframe\">\n",
              "  <thead>\n",
              "    <tr style=\"text-align: right;\">\n",
              "      <th></th>\n",
              "      <th>0</th>\n",
              "      <th>1</th>\n",
              "      <th>2</th>\n",
              "      <th>3</th>\n",
              "      <th>4</th>\n",
              "      <th>5</th>\n",
              "      <th>6</th>\n",
              "      <th>7</th>\n",
              "      <th>8</th>\n",
              "      <th>9</th>\n",
              "      <th>10</th>\n",
              "      <th>11</th>\n",
              "      <th>12</th>\n",
              "      <th>13</th>\n",
              "      <th>14</th>\n",
              "    </tr>\n",
              "  </thead>\n",
              "  <tbody>\n",
              "    <tr>\n",
              "      <th>0</th>\n",
              "      <td>39</td>\n",
              "      <td>State-gov</td>\n",
              "      <td>77516</td>\n",
              "      <td>Bachelors</td>\n",
              "      <td>13</td>\n",
              "      <td>Never-married</td>\n",
              "      <td>Adm-clerical</td>\n",
              "      <td>Not-in-family</td>\n",
              "      <td>White</td>\n",
              "      <td>Male</td>\n",
              "      <td>2174</td>\n",
              "      <td>0</td>\n",
              "      <td>40</td>\n",
              "      <td>United-States</td>\n",
              "      <td>&lt;=50K</td>\n",
              "    </tr>\n",
              "    <tr>\n",
              "      <th>1</th>\n",
              "      <td>50</td>\n",
              "      <td>Self-emp-not-inc</td>\n",
              "      <td>83311</td>\n",
              "      <td>Bachelors</td>\n",
              "      <td>13</td>\n",
              "      <td>Married-civ-spouse</td>\n",
              "      <td>Exec-managerial</td>\n",
              "      <td>Husband</td>\n",
              "      <td>White</td>\n",
              "      <td>Male</td>\n",
              "      <td>0</td>\n",
              "      <td>0</td>\n",
              "      <td>13</td>\n",
              "      <td>United-States</td>\n",
              "      <td>&lt;=50K</td>\n",
              "    </tr>\n",
              "    <tr>\n",
              "      <th>2</th>\n",
              "      <td>38</td>\n",
              "      <td>Private</td>\n",
              "      <td>215646</td>\n",
              "      <td>HS-grad</td>\n",
              "      <td>9</td>\n",
              "      <td>Divorced</td>\n",
              "      <td>Handlers-cleaners</td>\n",
              "      <td>Not-in-family</td>\n",
              "      <td>White</td>\n",
              "      <td>Male</td>\n",
              "      <td>0</td>\n",
              "      <td>0</td>\n",
              "      <td>40</td>\n",
              "      <td>United-States</td>\n",
              "      <td>&lt;=50K</td>\n",
              "    </tr>\n",
              "    <tr>\n",
              "      <th>3</th>\n",
              "      <td>53</td>\n",
              "      <td>Private</td>\n",
              "      <td>234721</td>\n",
              "      <td>11th</td>\n",
              "      <td>7</td>\n",
              "      <td>Married-civ-spouse</td>\n",
              "      <td>Handlers-cleaners</td>\n",
              "      <td>Husband</td>\n",
              "      <td>Black</td>\n",
              "      <td>Male</td>\n",
              "      <td>0</td>\n",
              "      <td>0</td>\n",
              "      <td>40</td>\n",
              "      <td>United-States</td>\n",
              "      <td>&lt;=50K</td>\n",
              "    </tr>\n",
              "    <tr>\n",
              "      <th>4</th>\n",
              "      <td>28</td>\n",
              "      <td>Private</td>\n",
              "      <td>338409</td>\n",
              "      <td>Bachelors</td>\n",
              "      <td>13</td>\n",
              "      <td>Married-civ-spouse</td>\n",
              "      <td>Prof-specialty</td>\n",
              "      <td>Wife</td>\n",
              "      <td>Black</td>\n",
              "      <td>Female</td>\n",
              "      <td>0</td>\n",
              "      <td>0</td>\n",
              "      <td>40</td>\n",
              "      <td>Cuba</td>\n",
              "      <td>&lt;=50K</td>\n",
              "    </tr>\n",
              "  </tbody>\n",
              "</table>\n",
              "</div>\n",
              "      <button class=\"colab-df-convert\" onclick=\"convertToInteractive('df-acf7b9b0-e3ff-4763-8784-8f8cf61ec132')\"\n",
              "              title=\"Convert this dataframe to an interactive table.\"\n",
              "              style=\"display:none;\">\n",
              "        \n",
              "  <svg xmlns=\"http://www.w3.org/2000/svg\" height=\"24px\"viewBox=\"0 0 24 24\"\n",
              "       width=\"24px\">\n",
              "    <path d=\"M0 0h24v24H0V0z\" fill=\"none\"/>\n",
              "    <path d=\"M18.56 5.44l.94 2.06.94-2.06 2.06-.94-2.06-.94-.94-2.06-.94 2.06-2.06.94zm-11 1L8.5 8.5l.94-2.06 2.06-.94-2.06-.94L8.5 2.5l-.94 2.06-2.06.94zm10 10l.94 2.06.94-2.06 2.06-.94-2.06-.94-.94-2.06-.94 2.06-2.06.94z\"/><path d=\"M17.41 7.96l-1.37-1.37c-.4-.4-.92-.59-1.43-.59-.52 0-1.04.2-1.43.59L10.3 9.45l-7.72 7.72c-.78.78-.78 2.05 0 2.83L4 21.41c.39.39.9.59 1.41.59.51 0 1.02-.2 1.41-.59l7.78-7.78 2.81-2.81c.8-.78.8-2.07 0-2.86zM5.41 20L4 18.59l7.72-7.72 1.47 1.35L5.41 20z\"/>\n",
              "  </svg>\n",
              "      </button>\n",
              "      \n",
              "  <style>\n",
              "    .colab-df-container {\n",
              "      display:flex;\n",
              "      flex-wrap:wrap;\n",
              "      gap: 12px;\n",
              "    }\n",
              "\n",
              "    .colab-df-convert {\n",
              "      background-color: #E8F0FE;\n",
              "      border: none;\n",
              "      border-radius: 50%;\n",
              "      cursor: pointer;\n",
              "      display: none;\n",
              "      fill: #1967D2;\n",
              "      height: 32px;\n",
              "      padding: 0 0 0 0;\n",
              "      width: 32px;\n",
              "    }\n",
              "\n",
              "    .colab-df-convert:hover {\n",
              "      background-color: #E2EBFA;\n",
              "      box-shadow: 0px 1px 2px rgba(60, 64, 67, 0.3), 0px 1px 3px 1px rgba(60, 64, 67, 0.15);\n",
              "      fill: #174EA6;\n",
              "    }\n",
              "\n",
              "    [theme=dark] .colab-df-convert {\n",
              "      background-color: #3B4455;\n",
              "      fill: #D2E3FC;\n",
              "    }\n",
              "\n",
              "    [theme=dark] .colab-df-convert:hover {\n",
              "      background-color: #434B5C;\n",
              "      box-shadow: 0px 1px 3px 1px rgba(0, 0, 0, 0.15);\n",
              "      filter: drop-shadow(0px 1px 2px rgba(0, 0, 0, 0.3));\n",
              "      fill: #FFFFFF;\n",
              "    }\n",
              "  </style>\n",
              "\n",
              "      <script>\n",
              "        const buttonEl =\n",
              "          document.querySelector('#df-acf7b9b0-e3ff-4763-8784-8f8cf61ec132 button.colab-df-convert');\n",
              "        buttonEl.style.display =\n",
              "          google.colab.kernel.accessAllowed ? 'block' : 'none';\n",
              "\n",
              "        async function convertToInteractive(key) {\n",
              "          const element = document.querySelector('#df-acf7b9b0-e3ff-4763-8784-8f8cf61ec132');\n",
              "          const dataTable =\n",
              "            await google.colab.kernel.invokeFunction('convertToInteractive',\n",
              "                                                     [key], {});\n",
              "          if (!dataTable) return;\n",
              "\n",
              "          const docLinkHtml = 'Like what you see? Visit the ' +\n",
              "            '<a target=\"_blank\" href=https://colab.research.google.com/notebooks/data_table.ipynb>data table notebook</a>'\n",
              "            + ' to learn more about interactive tables.';\n",
              "          element.innerHTML = '';\n",
              "          dataTable['output_type'] = 'display_data';\n",
              "          await google.colab.output.renderOutput(dataTable, element);\n",
              "          const docLink = document.createElement('div');\n",
              "          docLink.innerHTML = docLinkHtml;\n",
              "          element.appendChild(docLink);\n",
              "        }\n",
              "      </script>\n",
              "    </div>\n",
              "  </div>\n",
              "  "
            ]
          },
          "metadata": {},
          "execution_count": 41
        }
      ]
    },
    {
      "cell_type": "code",
      "execution_count": null,
      "metadata": {
        "colab": {
          "base_uri": "https://localhost:8080/"
        },
        "id": "pS1rSmvz59lZ",
        "outputId": "e43edacf-13d2-410c-8d5a-ac110dd21d2d"
      },
      "outputs": [
        {
          "output_type": "stream",
          "name": "stdout",
          "text": [
            "30107\n",
            "[39, 'State-gov', 77516, 'Bachelors', 13, 'Never-married', 'Adm-clerical', 'Not-in-family', 'White', 'Male', 2174, 0, 40, 'United-States', '<=50K']\n"
          ]
        }
      ],
      "source": [
        "import csv\n",
        "from itertools import islice\n",
        "with open('/content/gdrive/MyDrive/adultData/MLdata_notStandard.csv') as file_obj:\n",
        "  reader_obj = csv.reader(file_obj)\n",
        "  data_list = []\n",
        "  for row in islice(reader_obj, 1, 300000):\n",
        "    numeric = [0,2,4,10,11,12]\n",
        "    for i in numeric:\n",
        "      row[i] = int(row[i]) \n",
        "   \n",
        "    data_list.append(row)\n",
        "print(len(data_list))\n",
        "print(data_list[0])\n"
      ]
    },
    {
      "cell_type": "code",
      "execution_count": null,
      "metadata": {
        "colab": {
          "base_uri": "https://localhost:8080/"
        },
        "id": "Lq5NGwB7E1zp",
        "outputId": "cc914fe3-e82c-4e6f-9db3-1e9f6c226d1c"
      },
      "outputs": [
        {
          "output_type": "stream",
          "name": "stdout",
          "text": [
            "[25, 'Private', 226802, '11th', 7, 'Never-married', 'Machine-op-inspct', 'Own-child', 'Black', 'Male', 0, 40.0, 40, 'United-States', '<=50K.']\n"
          ]
        }
      ],
      "source": [
        "\n",
        "with open('/content/gdrive/MyDrive/adultData/MLtest_notStandard.csv') as file_obj:\n",
        "  reader_obj = csv.reader(file_obj)\n",
        "  test_list = []\n",
        "  for row in islice(reader_obj, 1, 50000):\n",
        "    numeric = [0,2,4,10,12]\n",
        "    for i in numeric:\n",
        "      row[i] = int(row[i])\n",
        "    row[11] = float(row[i])\n",
        "    test_list.append(row)\n",
        "len(test_list)\n",
        "print(test_list[0])\n"
      ]
    },
    {
      "cell_type": "code",
      "execution_count": null,
      "metadata": {
        "id": "MS7gAsY9jUbV"
      },
      "outputs": [],
      "source": [
        "def is_numeric(value):\n",
        "    \"\"\"Test if a value is numeric.\"\"\"\n",
        "    return isinstance(value, int) or isinstance(value, float)"
      ]
    },
    {
      "cell_type": "code",
      "execution_count": null,
      "metadata": {
        "id": "JrUEkt7M9FHj"
      },
      "outputs": [],
      "source": [
        "\n",
        "data_col = ['age', 'workclass', 'fnlwgt', 'education', 'education-num',\n",
        "       'marital-status', 'occupation', 'relationship', 'race', 'sex',\n",
        "       'capital-gain', 'capital-loss', 'hours-per-week' , 'native-country',\n",
        "       'Salary']"
      ]
    },
    {
      "cell_type": "code",
      "execution_count": null,
      "metadata": {
        "id": "3Cx5onjspF4g"
      },
      "outputs": [],
      "source": [
        "from pandas.core.arrays import numeric\n",
        "class Question:\n",
        "  def __init__(self, column, value):\n",
        "    self.column = column\n",
        "    self.value = value\n",
        "  def match(self, example):\n",
        "    val = example[self.column]\n",
        "    if is_numeric(val):\n",
        "      return val >= self.value\n",
        "    else:\n",
        "      return val == self.value\n",
        "  def __repr__(self):\n",
        "    condition = \"==\"\n",
        "    if is_numeric(self.value):\n",
        "            condition = \">=\"\n",
        "    return \"Is %s %s %s\" % (data_col[self.column], condition, str(self.value))"
      ]
    },
    {
      "cell_type": "code",
      "execution_count": null,
      "metadata": {
        "id": "qtrJ4H6EzvVQ"
      },
      "outputs": [],
      "source": [
        "from __future__ import print_function"
      ]
    },
    {
      "cell_type": "code",
      "execution_count": null,
      "metadata": {
        "id": "W_zLrVRMz86a"
      },
      "outputs": [],
      "source": [
        "import csv\n",
        "from itertools import islice\n",
        "\n",
        "def partition(data,question):\n",
        "  \n",
        "  # Partitions a dataset.\n",
        "\n",
        "  # For each row in the dataset, check if it matches the question. If true\n",
        "  # so, add it to 'true rows', otherwise, add it to 'false rows'.\n",
        "  val= question.value\n",
        "  col = question.column\n",
        "  true_rows, false_rows = [], []\n",
        "  \n",
        "  \n",
        "  for row in data:\n",
        "    row_ = row[:]\n",
        "    if question.match(row):\n",
        "      true_rows.append(row_)\n",
        "    else:\n",
        "      false_rows.append(row_)\n",
        "     \n",
        "  return true_rows, false_rows"
      ]
    },
    {
      "cell_type": "code",
      "execution_count": null,
      "metadata": {
        "id": "zix20dmclyMQ"
      },
      "outputs": [],
      "source": [
        "# t,f =partition(data_list,Question(5,'Married-civ-spouse'))\n",
        "# f,k =partition(data_list,Question(5,'Never-married'))\n",
        "# data_list[0]\n"
      ]
    },
    {
      "cell_type": "code",
      "execution_count": null,
      "metadata": {
        "id": "IlAgb6v8qqZS"
      },
      "outputs": [],
      "source": [
        "def class_counts(rows):\n",
        "    # Counts the number of each type of example in a dataset.\n",
        "    counts = {}  # a dictionary of label -> count.\n",
        "    for row in rows:\n",
        "        #  the label is the last column\n",
        "        label = row[-1]\n",
        "        if label not in counts:\n",
        "            counts[label] = 0\n",
        "        counts[label] += 1\n",
        "    return counts"
      ]
    },
    {
      "cell_type": "code",
      "execution_count": null,
      "metadata": {
        "colab": {
          "base_uri": "https://localhost:8080/"
        },
        "id": "2LfFPSteCbik",
        "outputId": "a2ef3b13-559a-40f1-a565-407b36bc087b"
      },
      "outputs": [
        {
          "name": "stdout",
          "output_type": "stream",
          "text": [
            "Predict {' <=50K': 213, ' >50K': 62}\n"
          ]
        }
      ],
      "source": [
        "print ( \"Predict\", class_counts(data_list))"
      ]
    },
    {
      "cell_type": "code",
      "execution_count": null,
      "metadata": {
        "id": "nwa4h1ys6nOj"
      },
      "outputs": [],
      "source": [
        "def entropy(y):\n",
        "  counts = class_counts(y)\n",
        "  entropy = 0\n",
        "  for lbl in counts:\n",
        "    a = counts.get(lbl) / float(len(y))\n",
        "    entropy -= a*np.log2(a)\n",
        "  return(entropy)\n"
      ]
    },
    {
      "cell_type": "code",
      "execution_count": null,
      "metadata": {
        "id": "2Wk30xXk6hEP"
      },
      "outputs": [],
      "source": [
        "def information_gain(true_, false_, current_uncertainty):\n",
        "  p = float(len(true_)) / (len(true_) + len(false_))\n",
        "  return current_uncertainty - p * entropy(true_) - (1 - p) * entropy(false_)"
      ]
    },
    {
      "cell_type": "code",
      "execution_count": null,
      "metadata": {
        "id": "-tgYTlvVFftl"
      },
      "outputs": [],
      "source": [
        "# information_gain(t, f, entropy(data_list))"
      ]
    },
    {
      "cell_type": "code",
      "execution_count": null,
      "metadata": {
        "id": "Q89KcoT21T54"
      },
      "outputs": [],
      "source": [
        "def best_split(data):\n",
        "  best_gain = 0\n",
        "  best_question = None\n",
        "  true_rows = []\n",
        "  false_rows=[]\n",
        "  column =0 \n",
        "  value = None\n",
        "  current_uncertainty = entropy(data)\n",
        "  n_features = [4,5,10,12]\n",
        "  for col in n_features:\n",
        "    values = set([row[col]for row in data])\n",
        "    for val in values:\n",
        "      question = Question(col, val)\n",
        "      true_Rows, false_Rows = partition(data, question)\n",
        "      if len(true_Rows) == 0 or len(false_Rows) == 0:\n",
        "        continue\n",
        "      info_gain = information_gain(true_Rows, false_Rows, current_uncertainty)\n",
        "      if info_gain >= best_gain:\n",
        "        best_gain, best_question,true_rows, false_rows, column, value= info_gain, question, true_Rows.copy(), false_Rows.copy(),col,val\n",
        "  return {'best_gain': best_gain,'best_question': best_question,'true_rows':true_rows,'false_rows': false_rows,'question_column' :column,'question_value': value}  \n"
      ]
    },
    {
      "cell_type": "code",
      "execution_count": null,
      "metadata": {
        "id": "WBq7hYkLtflb"
      },
      "outputs": [],
      "source": [
        "def to_terminal(group):\n",
        "  outcomes = [row[-1] for row in group]\n",
        "  return max(set(outcomes), key=outcomes.count)"
      ]
    },
    {
      "cell_type": "code",
      "execution_count": null,
      "metadata": {
        "colab": {
          "base_uri": "https://localhost:8080/"
        },
        "id": "XidOFxg83xbz",
        "outputId": "81545abb-fbef-4070-d0c3-e07e3be1c7c8"
      },
      "outputs": [
        {
          "name": "stdout",
          "output_type": "stream",
          "text": [
            "5\n",
            "Is marital-status == Married-civ-spouse\n",
            "0.1560078311019322\n",
            "129\n",
            "Married-civ-spouse\n"
          ]
        }
      ],
      "source": [
        "root = best_split(data_list)\n",
        "print(root['question_column'])\n",
        "print(root['best_question'])\n",
        "print(root['best_gain'])\n",
        "print(len(root['true_rows']))\n",
        "root['true_rows']\n",
        "print(root['question_value'])  "
      ]
    },
    {
      "cell_type": "code",
      "execution_count": null,
      "metadata": {
        "colab": {
          "base_uri": "https://localhost:8080/"
        },
        "id": "R9iTHmjzBsJJ",
        "outputId": "d94dd0c4-1530-4b89-9246-153c054761f1"
      },
      "outputs": [
        {
          "name": "stdout",
          "output_type": "stream",
          "text": [
            "Predict {'<=50K': 23438, '>50K': 6668}\n"
          ]
        }
      ],
      "source": [
        "print ( \"Predict\", class_counts(data_list))"
      ]
    },
    {
      "cell_type": "code",
      "execution_count": null,
      "metadata": {
        "id": "diekSeTE83bw"
      },
      "outputs": [],
      "source": [
        "def build_sub_tree(node, max_depth, min_size,depth):\n",
        "  true_,false_ = node['true_rows'],node['false_rows']\n",
        "  del(node['true_rows'])\n",
        "  del(node['false_rows'])\n",
        "  if not true_ or not false_:\n",
        "    node['true_rows'] = node['false_rows'] = to_terminal(true_ + false_)\n",
        "    return\n",
        "  if depth >= max_depth:\n",
        "    node['true_rows'], node['false_rows'] = to_terminal(true_), to_terminal(false_)\n",
        "    return\n",
        "  if len(true_) <= min_size:\n",
        "    node['true_rows'] = to_terminal(true_)  \n",
        "  else:\n",
        "    node['true_rows'] = best_split(true_)\n",
        "    # data_col.remove(data_col[node['true_rows']['question_column']])\n",
        "    build_sub_tree(node['true_rows'], max_depth, min_size,depth+1)\n",
        "  if len(false_) <= min_size:\n",
        "    node['false_rows'] = to_terminal(false_)  \n",
        "  else:\n",
        "    node['false_rows'] = best_split(false_)\n",
        "    build_sub_tree(node['false_rows'], max_depth, min_size,depth+1)\n",
        "    # data_col.remove(data_col[node['false_rows']['question_column']])\n",
        " "
      ]
    },
    {
      "cell_type": "code",
      "execution_count": null,
      "metadata": {
        "id": "etQmJojP2eKC"
      },
      "outputs": [],
      "source": [
        "def build_tree(data,max_depth,min_size):\n",
        "  root = best_split(data)\n",
        "  build_sub_tree(root, max_depth,min_size,1)\n",
        "  return root"
      ]
    },
    {
      "cell_type": "code",
      "execution_count": null,
      "metadata": {
        "colab": {
          "base_uri": "https://localhost:8080/"
        },
        "id": "ircaZR_d5OEE",
        "outputId": "718a2bc9-ad3a-42e3-f66b-cfca7416def0"
      },
      "outputs": [
        {
          "name": "stdout",
          "output_type": "stream",
          "text": [
            "{'best_gain': 0.15239823241974715, 'best_question': Is marital-status ==  Married-civ-spouse, 'question_column': 5, 'question_value': ' Married-civ-spouse', 'true_rows': ' >50K', 'false_rows': {'best_gain': 0.1467899686612929, 'best_question': Is marital-status ==  Married-civ-spouse, 'question_column': 5, 'question_value': ' Married-civ-spouse', 'true_rows': ' <=50K', 'false_rows': {'best_gain': 0.14887855858310464, 'best_question': Is marital-status ==  Married-civ-spouse, 'question_column': 5, 'question_value': ' Married-civ-spouse', 'true_rows': ' <=50K', 'false_rows': {'best_gain': 0.14839528793359683, 'best_question': Is marital-status ==  Married-civ-spouse, 'question_column': 5, 'question_value': ' Married-civ-spouse', 'true_rows': ' <=50K', 'false_rows': {'best_gain': 0.15322771335233853, 'best_question': Is marital-status ==  Married-civ-spouse, 'question_column': 5, 'question_value': ' Married-civ-spouse', 'true_rows': ' >50K', 'false_rows': ' <=50K'}}}}}\n"
          ]
        }
      ],
      "source": [
        "print(a)"
      ]
    },
    {
      "cell_type": "code",
      "execution_count": null,
      "metadata": {
        "id": "YYJMY6rX3TRd"
      },
      "outputs": [],
      "source": [
        "def print_tree(node,spacing=\"\"):\n",
        "  if isinstance(node, dict):\n",
        "    print(spacing +str(node['best_question']))\n",
        "\n",
        "    print (spacing + '--> True_rows:')\n",
        "    print_tree(node['true_rows'],spacing+\"    \")\n",
        "\n",
        "    print (spacing + '--> False_rows:')\n",
        "    print_tree(node['false_rows'],spacing+\"    \")\n",
        "  else:\n",
        "    print(spacing + \"Predict\",node)"
      ]
    },
    {
      "cell_type": "code",
      "execution_count": null,
      "metadata": {
        "id": "o5zCEuDK6bLs"
      },
      "outputs": [],
      "source": [
        "def predict(node,row):\n",
        "  numeric = [0,2,4,10,11,12]\n",
        "  if node['question_column'] in numeric:\n",
        "    if int(row[node['question_column']]) > node['question_value']:\n",
        "      if isinstance(node['true_rows'], dict):\n",
        "        return predict(node['true_rows'],row)\n",
        "      else:\n",
        "        return node['true_rows']\n",
        "    else:\n",
        "      if isinstance(node['false_rows'], dict):\n",
        "        return predict(node['false_rows'],row)\n",
        "      else:\n",
        "        return node['false_rows']\n",
        "  else:\n",
        "    if row[node['question_column']] ==  node['question_value']:\n",
        "      if isinstance(node['true_rows'], dict):\n",
        "        return predict(node['true_rows'],row)\n",
        "      else:\n",
        "        return node['true_rows']\n",
        "    else:\n",
        "      if isinstance(node['false_rows'], dict):\n",
        "        return predict(node['false_rows'],row)\n",
        "      else:\n",
        "        return node['false_rows']\n",
        "\n"
      ]
    },
    {
      "cell_type": "code",
      "execution_count": null,
      "metadata": {
        "id": "_mRJUkLRDi6P"
      },
      "outputs": [],
      "source": [
        "t =[23, 'Private', 82497, 'Some-college', 10, 'Never-married', 'Sales', 'Own-child', 'White', 'Female', 0, 0, 28, 'United-States', '<=50K']"
      ]
    },
    {
      "cell_type": "code",
      "execution_count": null,
      "metadata": {
        "colab": {
          "base_uri": "https://localhost:8080/",
          "height": 36
        },
        "id": "Y00IdqQN-JNq",
        "outputId": "235a94ca-d30c-464c-c627-0f522987fe34"
      },
      "outputs": [
        {
          "data": {
            "application/vnd.google.colaboratory.intrinsic+json": {
              "type": "string"
            },
            "text/plain": [
              "'<=50K'"
            ]
          },
          "execution_count": 27,
          "metadata": {},
          "output_type": "execute_result"
        }
      ],
      "source": [
        "predict(a,t)"
      ]
    },
    {
      "cell_type": "code",
      "execution_count": null,
      "metadata": {
        "id": "q_zezFI9aI7z"
      },
      "outputs": [],
      "source": [
        "testing_data = [60,\n",
        " 'Local-gov',\n",
        " 141637,\n",
        " 'Masters',\n",
        " 14,\n",
        " 'Married-civ-spouse',\n",
        " 'Prof-specialty',\n",
        " 'Husband',\n",
        " 'White',\n",
        " 'Male',\n",
        " 0,\n",
        " 0,\n",
        " 40,\n",
        " 'United-States',\n",
        " '>50K']\n"
      ]
    },
    {
      "cell_type": "code",
      "execution_count": null,
      "metadata": {
        "colab": {
          "base_uri": "https://localhost:8080/",
          "height": 36
        },
        "id": "uc4gnlevdIIu",
        "outputId": "2e5be923-ca6b-426b-bfd8-adecea67117a"
      },
      "outputs": [
        {
          "data": {
            "application/vnd.google.colaboratory.intrinsic+json": {
              "type": "string"
            },
            "text/plain": [
              "'>50K'"
            ]
          },
          "execution_count": 30,
          "metadata": {},
          "output_type": "execute_result"
        }
      ],
      "source": [
        "predict(a,testing_data)"
      ]
    },
    {
      "cell_type": "code",
      "source": [
        "from random import randrange\n",
        "def cross_validation_split(data, n_folds):\n",
        "\tdataset_split = []\n",
        "\tdataset_copy = data.copy()\n",
        "\tfold_size = int(len(data) / n_folds)\n",
        "\tfor i in range(n_folds):\n",
        "\t\tfold = list()\n",
        "\t\twhile len(fold) < fold_size:\n",
        "\t\t\tindex = randrange(len(dataset_copy))\n",
        "\t\t\tfold.append(dataset_copy.pop(index))\n",
        "\t\tdataset_split.append(fold)\n",
        "\treturn dataset_split "
      ],
      "metadata": {
        "id": "kzX9i8daM_kT"
      },
      "execution_count": null,
      "outputs": []
    },
    {
      "cell_type": "code",
      "source": [
        "folds = cross_validation_split(data_list, 5)\n",
        "scores = list()\n",
        "for fold in folds:\n",
        "  train_set = list(folds)\n",
        "  train_set.remove(fold)\n",
        "  train_set = sum(train_set, [])\n",
        "  a = build_tree(train_set,7,200)\n",
        "  test_set = list()\n",
        "  for row in fold:\n",
        "    row_copy = row[:]\n",
        "    test_set.append(row_copy)\n",
        "    # row_copy[-1] = None\n",
        "  accuracy = accuracy_trainData(test_set,a)\n",
        "  scores.append(accuracy)\n",
        "# b =sum(scores)/float(len(scores)\n"
      ],
      "metadata": {
        "id": "nuMqMsWNNaPb"
      },
      "execution_count": null,
      "outputs": []
    },
    {
      "cell_type": "code",
      "source": [
        "print('Mean Accuracy: %.3f%%' % (sum(scores)/float(len(scores))))"
      ],
      "metadata": {
        "colab": {
          "base_uri": "https://localhost:8080/"
        },
        "id": "9ShTa2BQRQkQ",
        "outputId": "199ff21d-c41c-405a-b9ef-8e1164e0e2c2"
      },
      "execution_count": null,
      "outputs": [
        {
          "output_type": "stream",
          "name": "stdout",
          "text": [
            "Mean Accuracy: 83.342%\n"
          ]
        }
      ]
    },
    {
      "cell_type": "code",
      "execution_count": null,
      "metadata": {
        "id": "3SAlJW9PEI9e"
      },
      "outputs": [],
      "source": [
        "def accuracy_metric(data,loaded_model):\n",
        "  correct = 0\n",
        "  predictions = list()\n",
        "  actual = [row[-1] for row in data]\n",
        "  for row in data:\n",
        "    prediction = predict(loaded_model, row)\n",
        "    predictions.append(prediction)\n",
        "  for i in range(len(actual)):\n",
        "    # print(actual[i])\n",
        "    # print(predictions[i])\n",
        "    if actual[i] == predictions[i]+\".\":\n",
        "      correct += 1\n",
        "  return correct / float(len(actual)) * 100.0"
      ]
    },
    {
      "cell_type": "code",
      "execution_count": null,
      "metadata": {
        "id": "JJtadeuXzWoH"
      },
      "outputs": [],
      "source": [
        "def accuracy_trainData(data,loaded_model):\n",
        "  correct = 0\n",
        "  predictions = list()\n",
        "  actual = [row[-1] for row in data]\n",
        "  for row in data:\n",
        "    prediction = predict(loaded_model, row)\n",
        "    predictions.append(prediction)\n",
        "  for i in range(len(actual)):\n",
        "    # print(actual[i])\n",
        "    # print(predictions[i])\n",
        "    if actual[i] == predictions[i]:\n",
        "      correct += 1\n",
        "  return correct / float(len(actual)) * 100.0"
      ]
    },
    {
      "cell_type": "code",
      "execution_count": null,
      "metadata": {
        "colab": {
          "base_uri": "https://localhost:8080/"
        },
        "id": "YzZIodUe57Mb",
        "outputId": "b6a6ffcf-bd75-47c9-9fb7-82ca29ccfe21"
      },
      "outputs": [
        {
          "output_type": "stream",
          "name": "stdout",
          "text": [
            "Is marital-status == Married-civ-spouse\n",
            "--> True_rows:\n",
            "    Is capital-gain >= 5178\n",
            "    --> True_rows:\n",
            "        Predict >50K\n",
            "    --> False_rows:\n",
            "        Is education-num >= 11\n",
            "        --> True_rows:\n",
            "            Is age >= 29\n",
            "            --> True_rows:\n",
            "                Is workclass == Self-emp-not-inc\n",
            "                --> True_rows:\n",
            "                    Predict <=50K\n",
            "                --> False_rows:\n",
            "                    Is capital-gain >= 3411\n",
            "                    --> True_rows:\n",
            "                        Predict <=50K\n",
            "                    --> False_rows:\n",
            "                        Is education-num >= 16\n",
            "                        --> True_rows:\n",
            "                            Predict >50K\n",
            "                        --> False_rows:\n",
            "                            Predict >50K\n",
            "            --> False_rows:\n",
            "                Predict <=50K\n",
            "        --> False_rows:\n",
            "            Is education-num >= 9\n",
            "            --> True_rows:\n",
            "                Is age >= 30\n",
            "                --> True_rows:\n",
            "                    Is hours-per-week >= 38\n",
            "                    --> True_rows:\n",
            "                        Is hours-per-week >= 42\n",
            "                        --> True_rows:\n",
            "                            Predict <=50K\n",
            "                        --> False_rows:\n",
            "                            Predict <=50K\n",
            "                    --> False_rows:\n",
            "                        Predict <=50K\n",
            "                --> False_rows:\n",
            "                    Predict <=50K\n",
            "            --> False_rows:\n",
            "                Predict <=50K\n",
            "--> False_rows:\n",
            "    Is capital-gain >= 8614\n",
            "    --> True_rows:\n",
            "        Predict >50K\n",
            "    --> False_rows:\n",
            "        Is education-num >= 13\n",
            "        --> True_rows:\n",
            "            Is age >= 28\n",
            "            --> True_rows:\n",
            "                Is workclass == Federal-gov\n",
            "                --> True_rows:\n",
            "                    Predict >50K\n",
            "                --> False_rows:\n",
            "                    Is occupation == Adm-clerical\n",
            "                    --> True_rows:\n",
            "                        Predict <=50K\n",
            "                    --> False_rows:\n",
            "                        Predict <=50K\n",
            "            --> False_rows:\n",
            "                Predict <=50K\n",
            "        --> False_rows:\n",
            "            Is hours-per-week >= 42\n",
            "            --> True_rows:\n",
            "                Is age >= 32\n",
            "                --> True_rows:\n",
            "                    Predict <=50K\n",
            "                --> False_rows:\n",
            "                    Predict <=50K\n",
            "            --> False_rows:\n",
            "                Is age >= 30\n",
            "                --> True_rows:\n",
            "                    Is race == Asian-Pac-Islander\n",
            "                    --> True_rows:\n",
            "                        Predict <=50K\n",
            "                    --> False_rows:\n",
            "                        Is fnlwgt >= 27669\n",
            "                        --> True_rows:\n",
            "                            Predict <=50K\n",
            "                        --> False_rows:\n",
            "                            Predict <=50K\n",
            "                --> False_rows:\n",
            "                    Is native-country == Haiti\n",
            "                    --> True_rows:\n",
            "                        Predict <=50K\n",
            "                    --> False_rows:\n",
            "                        Is native-country == Canada\n",
            "                        --> True_rows:\n",
            "                            Predict <=50K\n",
            "                        --> False_rows:\n",
            "                            Predict <=50K\n"
          ]
        }
      ],
      "source": [
        "print_tree(a)"
      ]
    },
    {
      "cell_type": "code",
      "source": [
        "print_tree(a)"
      ],
      "metadata": {
        "colab": {
          "base_uri": "https://localhost:8080/"
        },
        "id": "Q7xVOOtRdCcq",
        "outputId": "90bb649f-47d8-4cca-d59e-edc8b5af1d2c"
      },
      "execution_count": null,
      "outputs": [
        {
          "output_type": "stream",
          "name": "stdout",
          "text": [
            "Is marital-status == Married-civ-spouse\n",
            "--> True_rows:\n",
            "    Is capital-gain >= 5178\n",
            "    --> True_rows:\n",
            "        Predict >50K\n",
            "    --> False_rows:\n",
            "        Is education-num >= 11\n",
            "        --> True_rows:\n",
            "            Is age >= 29\n",
            "            --> True_rows:\n",
            "                Is workclass == Self-emp-not-inc\n",
            "                --> True_rows:\n",
            "                    Predict <=50K\n",
            "                --> False_rows:\n",
            "                    Is capital-gain >= 3411\n",
            "                    --> True_rows:\n",
            "                        Predict <=50K\n",
            "                    --> False_rows:\n",
            "                        Is education-num >= 16\n",
            "                        --> True_rows:\n",
            "                            Predict >50K\n",
            "                        --> False_rows:\n",
            "                            Is occupation == Exec-managerial\n",
            "                            --> True_rows:\n",
            "                                Predict >50K\n",
            "                            --> False_rows:\n",
            "                                Is fnlwgt >= 29841\n",
            "                                --> True_rows:\n",
            "                                    Predict >50K\n",
            "                                --> False_rows:\n",
            "                                    Predict >50K\n",
            "            --> False_rows:\n",
            "                Predict <=50K\n",
            "        --> False_rows:\n",
            "            Is education-num >= 9\n",
            "            --> True_rows:\n",
            "                Is age >= 30\n",
            "                --> True_rows:\n",
            "                    Is hours-per-week >= 38\n",
            "                    --> True_rows:\n",
            "                        Is hours-per-week >= 42\n",
            "                        --> True_rows:\n",
            "                            Predict <=50K\n",
            "                        --> False_rows:\n",
            "                            Is relationship == Wife\n",
            "                            --> True_rows:\n",
            "                                Predict >50K\n",
            "                            --> False_rows:\n",
            "                                Is workclass == State-gov\n",
            "                                --> True_rows:\n",
            "                                    Predict <=50K\n",
            "                                --> False_rows:\n",
            "                                    Predict <=50K\n",
            "                    --> False_rows:\n",
            "                        Predict <=50K\n",
            "                --> False_rows:\n",
            "                    Predict <=50K\n",
            "            --> False_rows:\n",
            "                Predict <=50K\n",
            "--> False_rows:\n",
            "    Is capital-gain >= 8614\n",
            "    --> True_rows:\n",
            "        Predict >50K\n",
            "    --> False_rows:\n",
            "        Is education-num >= 13\n",
            "        --> True_rows:\n",
            "            Is age >= 28\n",
            "            --> True_rows:\n",
            "                Is workclass == Federal-gov\n",
            "                --> True_rows:\n",
            "                    Predict >50K\n",
            "                --> False_rows:\n",
            "                    Is occupation == Adm-clerical\n",
            "                    --> True_rows:\n",
            "                        Predict <=50K\n",
            "                    --> False_rows:\n",
            "                        Predict <=50K\n",
            "            --> False_rows:\n",
            "                Predict <=50K\n",
            "        --> False_rows:\n",
            "            Is hours-per-week >= 42\n",
            "            --> True_rows:\n",
            "                Is age >= 32\n",
            "                --> True_rows:\n",
            "                    Predict <=50K\n",
            "                --> False_rows:\n",
            "                    Predict <=50K\n",
            "            --> False_rows:\n",
            "                Is age >= 30\n",
            "                --> True_rows:\n",
            "                    Is race == Asian-Pac-Islander\n",
            "                    --> True_rows:\n",
            "                        Predict <=50K\n",
            "                    --> False_rows:\n",
            "                        Is fnlwgt >= 27669\n",
            "                        --> True_rows:\n",
            "                            Is fnlwgt >= 177675\n",
            "                            --> True_rows:\n",
            "                                Is fnlwgt >= 177825\n",
            "                                --> True_rows:\n",
            "                                    Predict <=50K\n",
            "                                --> False_rows:\n",
            "                                    Predict >50K\n",
            "                            --> False_rows:\n",
            "                                Is native-country == Outlying-US(Guam-USVI-etc)\n",
            "                                --> True_rows:\n",
            "                                    Predict <=50K\n",
            "                                --> False_rows:\n",
            "                                    Predict <=50K\n",
            "                        --> False_rows:\n",
            "                            Predict <=50K\n",
            "                --> False_rows:\n",
            "                    Is native-country == Haiti\n",
            "                    --> True_rows:\n",
            "                        Predict <=50K\n",
            "                    --> False_rows:\n",
            "                        Is native-country == Canada\n",
            "                        --> True_rows:\n",
            "                            Predict <=50K\n",
            "                        --> False_rows:\n",
            "                            Is native-country == Philippines\n",
            "                            --> True_rows:\n",
            "                                Predict <=50K\n",
            "                            --> False_rows:\n",
            "                                Is native-country == El-Salvador\n",
            "                                --> True_rows:\n",
            "                                    Predict <=50K\n",
            "                                --> False_rows:\n",
            "                                    Predict <=50K\n"
          ]
        }
      ]
    },
    {
      "cell_type": "code",
      "execution_count": null,
      "metadata": {
        "colab": {
          "base_uri": "https://localhost:8080/"
        },
        "id": "jDqV4ColxmC5",
        "outputId": "b99d98d0-72e3-41ed-e55d-128d356b612f"
      },
      "outputs": [
        {
          "output_type": "execute_result",
          "data": {
            "text/plain": [
              "84.26142047349117"
            ]
          },
          "metadata": {},
          "execution_count": 53
        }
      ],
      "source": [
        "accuracy_trainData(data_list,a)"
      ]
    },
    {
      "cell_type": "code",
      "execution_count": null,
      "metadata": {
        "id": "y6myk9h34yLZ"
      },
      "outputs": [],
      "source": [
        "a =build_tree(data_list,7,200)"
      ]
    },
    {
      "cell_type": "code",
      "execution_count": null,
      "metadata": {
        "colab": {
          "base_uri": "https://localhost:8080/"
        },
        "id": "jy_q5DY9FlDf",
        "outputId": "0ef06318-068b-4e67-c0cd-7a6528a04b30"
      },
      "outputs": [
        {
          "output_type": "execute_result",
          "data": {
            "text/plain": [
              "82.25538971807629"
            ]
          },
          "metadata": {},
          "execution_count": 29
        }
      ],
      "source": [
        "accuracy_metric(test_list,a)"
      ]
    },
    {
      "cell_type": "code",
      "execution_count": null,
      "metadata": {
        "id": "g7crkr1qZi1T"
      },
      "outputs": [],
      "source": [
        "import pickle\n",
        "filename ='/content/gdrive/MyDrive/adultData/decisionTree_Model7 .sav'\n",
        "pickle.dump(a, open(filename, 'wb'))"
      ]
    },
    {
      "cell_type": "code",
      "execution_count": null,
      "metadata": {
        "id": "eSJtduatWzsq"
      },
      "outputs": [],
      "source": [
        "import pickle\n",
        "filename ='/content/gdrive/MyDrive/adultData/decisionTree_Model .sav'\n",
        "loaded_model = pickle.load(open(filename, 'rb'))\n"
      ]
    }
  ],
  "metadata": {
    "accelerator": "GPU",
    "colab": {
      "collapsed_sections": [],
      "name": "DT.ipynb",
      "provenance": []
    },
    "gpuClass": "standard",
    "kernelspec": {
      "display_name": "Python 3",
      "name": "python3"
    },
    "language_info": {
      "name": "python"
    }
  },
  "nbformat": 4,
  "nbformat_minor": 0
}